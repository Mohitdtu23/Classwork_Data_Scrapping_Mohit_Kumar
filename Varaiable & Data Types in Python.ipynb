{
 "cells": [
  {
   "cell_type": "markdown",
   "id": "d0680cb3-d619-4b0a-808d-4bbddde969e8",
   "metadata": {},
   "source": [
    "# Lecture - 2"
   ]
  },
  {
   "cell_type": "markdown",
   "id": "c772aaf3-e149-4245-a21f-018f086f060c",
   "metadata": {},
   "source": [
    "# Varaiable & Data Types in Python"
   ]
  },
  {
   "cell_type": "markdown",
   "id": "642781dd-955f-46d8-b0c1-7ba7f182e22c",
   "metadata": {},
   "source": [
    "# Creatingb a Varible"
   ]
  },
  {
   "cell_type": "code",
   "execution_count": 8,
   "id": "4af7a110-3812-44b7-9053-9d2161674099",
   "metadata": {},
   "outputs": [
    {
     "name": "stdout",
     "output_type": "stream",
     "text": [
      "5\n"
     ]
    }
   ],
   "source": [
    "x = 5\n",
    "print(x)"
   ]
  },
  {
   "cell_type": "code",
   "execution_count": 10,
   "id": "d7f62a47-1f97-4b6a-9327-4a8f6ce88db2",
   "metadata": {},
   "outputs": [
    {
     "name": "stdout",
     "output_type": "stream",
     "text": [
      "2322\n"
     ]
    }
   ],
   "source": [
    "x = 2322\n",
    "print(x)"
   ]
  },
  {
   "cell_type": "code",
   "execution_count": 16,
   "id": "d13abf8d-d9ad-4c16-bd1f-5b9012532c0c",
   "metadata": {},
   "outputs": [
    {
     "name": "stdout",
     "output_type": "stream",
     "text": [
      "<class 'int'>\n",
      "<class 'float'>\n",
      "<class 'str'>\n",
      "10 2.5 Mohit\n"
     ]
    }
   ],
   "source": [
    "a = 10\n",
    "b = 2.5\n",
    "c = \"Mohit\"\n",
    "\n",
    "print(type(a))\n",
    "print(type(b))\n",
    "print(type(c))\n",
    "print(a,b,c)"
   ]
  },
  {
   "cell_type": "code",
   "execution_count": 18,
   "id": "c01a71d3-53d0-4750-aae5-89d59bb076ba",
   "metadata": {},
   "outputs": [
    {
     "name": "stdout",
     "output_type": "stream",
     "text": [
      "we are looking for Python\n"
     ]
    }
   ],
   "source": [
    "y = \"we are looking for Python\"\n",
    "print(y)"
   ]
  },
  {
   "cell_type": "code",
   "execution_count": 20,
   "id": "8276adc0-1fa8-4da9-a5ca-79395cea52de",
   "metadata": {},
   "outputs": [
    {
     "name": "stdout",
     "output_type": "stream",
     "text": [
      "Variable               Type        Data/Info\n",
      "--------------------------------------------\n",
      "a                      int         10\n",
      "b                      float       2.5\n",
      "c                      str         Mohit\n",
      "dataframe_columns      function    <function dataframe_colum<...>ns at 0x00000160F13DBEC0>\n",
      "dataframe_hash         function    <function dataframe_hash at 0x00000160EDECB7E0>\n",
      "dtypes_str             function    <function dtypes_str at 0x00000160F1433420>\n",
      "get_dataframes         function    <function get_dataframes at 0x00000160F1433740>\n",
      "getpass                module      <module 'getpass' from 'C<...>conda3\\\\Lib\\\\getpass.py'>\n",
      "hashlib                module      <module 'hashlib' from 'C<...>conda3\\\\Lib\\\\hashlib.py'>\n",
      "import_pandas_safely   function    <function import_pandas_s<...>ly at 0x00000160F14337E0>\n",
      "is_data_frame          function    <function is_data_frame at 0x00000160EDFC5EE0>\n",
      "json                   module      <module 'json' from 'C:\\\\<...>\\Lib\\\\json\\\\__init__.py'>\n",
      "x                      int         2322\n",
      "y                      str         we are looking for Python\n"
     ]
    }
   ],
   "source": [
    "%whos"
   ]
  },
  {
   "cell_type": "code",
   "execution_count": 22,
   "id": "50d2a31d-57e1-4baf-bd0f-80388b34a18b",
   "metadata": {},
   "outputs": [
    {
     "name": "stdout",
     "output_type": "stream",
     "text": [
      "Variable               Type        Data/Info\n",
      "--------------------------------------------\n",
      "a                      int         10\n",
      "b                      float       2.5\n",
      "c                      str         Mohit\n",
      "dataframe_columns      function    <function dataframe_colum<...>ns at 0x00000160EDFC5EE0>\n",
      "dataframe_hash         function    <function dataframe_hash at 0x00000160F1433420>\n",
      "dtypes_str             function    <function dtypes_str at 0x00000160F13DBEC0>\n",
      "get_dataframes         function    <function get_dataframes at 0x00000160F14336A0>\n",
      "getpass                module      <module 'getpass' from 'C<...>conda3\\\\Lib\\\\getpass.py'>\n",
      "hashlib                module      <module 'hashlib' from 'C<...>conda3\\\\Lib\\\\hashlib.py'>\n",
      "import_pandas_safely   function    <function import_pandas_s<...>ly at 0x00000160EDECB100>\n",
      "is_data_frame          function    <function is_data_frame at 0x00000160F14337E0>\n",
      "json                   module      <module 'json' from 'C:\\\\<...>\\Lib\\\\json\\\\__init__.py'>\n",
      "x                      int         2322\n",
      "y                      str         we are looking for Python\n"
     ]
    }
   ],
   "source": [
    "%whos"
   ]
  },
  {
   "cell_type": "code",
   "execution_count": 24,
   "id": "68afc279-3df5-40c3-a8d0-2f854a1afd23",
   "metadata": {},
   "outputs": [
    {
     "name": "stdout",
     "output_type": "stream",
     "text": [
      "23\n"
     ]
    }
   ],
   "source": [
    "apple = 23\n",
    "print(apple)"
   ]
  },
  {
   "cell_type": "code",
   "execution_count": 28,
   "id": "756397d6-763c-4a02-a742-ca66f64d38a7",
   "metadata": {},
   "outputs": [
    {
     "name": "stdout",
     "output_type": "stream",
     "text": [
      "23\n"
     ]
    }
   ],
   "source": [
    "apple_box= 23\n",
    "print(apple_box)"
   ]
  },
  {
   "cell_type": "code",
   "execution_count": 30,
   "id": "0124ffb4-6c45-4ebc-ba67-95e94c9efc27",
   "metadata": {},
   "outputs": [
    {
     "name": "stdout",
     "output_type": "stream",
     "text": [
      "5\n"
     ]
    }
   ],
   "source": [
    "_ = 5\n",
    "print(_)"
   ]
  },
  {
   "cell_type": "code",
   "execution_count": 32,
   "id": "c6e69eb6-c021-4d97-a982-8c18c781ac5f",
   "metadata": {},
   "outputs": [
    {
     "name": "stdout",
     "output_type": "stream",
     "text": [
      "5\n"
     ]
    }
   ],
   "source": [
    "_z = 5\n",
    "print(_z)"
   ]
  },
  {
   "cell_type": "code",
   "execution_count": 34,
   "id": "e98db08a-3dbe-44d1-aaf8-9cbc18907e5c",
   "metadata": {},
   "outputs": [
    {
     "name": "stdout",
     "output_type": "stream",
     "text": [
      "2\n"
     ]
    }
   ],
   "source": [
    "mnp_ = 2\n",
    "print(mnp_)"
   ]
  },
  {
   "cell_type": "markdown",
   "id": "bf2685fd-8929-49a6-82ea-314396bf9f30",
   "metadata": {},
   "source": [
    "# A varible name cannot start with a number"
   ]
  },
  {
   "cell_type": "code",
   "execution_count": 41,
   "id": "61959825-7a59-4a94-beeb-e6ff4da774c3",
   "metadata": {},
   "outputs": [
    {
     "ename": "SyntaxError",
     "evalue": "cannot assign to literal here. Maybe you meant '==' instead of '='? (2060739776.py, line 1)",
     "output_type": "error",
     "traceback": [
      "\u001b[1;36m  Cell \u001b[1;32mIn[41], line 1\u001b[1;36m\u001b[0m\n\u001b[1;33m    1 = 23\u001b[0m\n\u001b[1;37m    ^\u001b[0m\n\u001b[1;31mSyntaxError\u001b[0m\u001b[1;31m:\u001b[0m cannot assign to literal here. Maybe you meant '==' instead of '='?\n"
     ]
    }
   ],
   "source": [
    "1 = 23\n",
    "print(1)"
   ]
  },
  {
   "cell_type": "code",
   "execution_count": 43,
   "id": "db47147b-f959-4522-8d16-3ecea35b3b9b",
   "metadata": {},
   "outputs": [
    {
     "name": "stdout",
     "output_type": "stream",
     "text": [
      "12\n"
     ]
    }
   ],
   "source": [
    "apple_1 = 12\n",
    "print(apple_1)"
   ]
  },
  {
   "cell_type": "code",
   "execution_count": 49,
   "id": "af80e4c2-870f-40e0-af7a-62b8d3696e78",
   "metadata": {},
   "outputs": [],
   "source": [
    "age = 23\n",
    "Age = 25\n",
    "AGE = 26\n",
    "aGE = 32"
   ]
  },
  {
   "cell_type": "markdown",
   "id": "61d835f8-8c54-4c07-b223-2794f2ecab7e",
   "metadata": {},
   "source": [
    "print(age)\n",
    "print(Age)\n",
    "print(AGE)\n",
    "print(aGE)\n",
    "\n",
    "# in Python Varible name is Case Sensetive"
   ]
  },
  {
   "cell_type": "code",
   "execution_count": 56,
   "id": "0b4db148-19b2-4cac-be32-37683dd6a126",
   "metadata": {},
   "outputs": [],
   "source": [
    "a = 10\n",
    "b = 2.5\n",
    "c = \"Mohit\""
   ]
  },
  {
   "cell_type": "code",
   "execution_count": 58,
   "id": "98d16b9b-1b8a-405b-84bb-a0f5b544a7a5",
   "metadata": {},
   "outputs": [
    {
     "name": "stdout",
     "output_type": "stream",
     "text": [
      "10\n"
     ]
    }
   ],
   "source": [
    "print(a)"
   ]
  },
  {
   "cell_type": "code",
   "execution_count": 62,
   "id": "4af1ea79-7a04-4475-9e0b-d34b24c115c8",
   "metadata": {},
   "outputs": [
    {
     "name": "stdout",
     "output_type": "stream",
     "text": [
      "(2+3j)\n",
      "<class 'complex'>\n"
     ]
    }
   ],
   "source": [
    "v = 2+3j\n",
    "print(v)\n",
    "print(type(v))"
   ]
  },
  {
   "cell_type": "code",
   "execution_count": 66,
   "id": "e252728c-36fa-48ed-88d1-03a0b8310bc9",
   "metadata": {},
   "outputs": [
    {
     "name": "stdout",
     "output_type": "stream",
     "text": [
      "[23, 24, 25, 26]\n",
      "<class 'list'>\n"
     ]
    }
   ],
   "source": [
    "num = [23,24,25,26]\n",
    "print(num)\n",
    "print(type(num))"
   ]
  },
  {
   "cell_type": "code",
   "execution_count": 84,
   "id": "93fba78a-b533-4447-b35b-823b7a629f55",
   "metadata": {},
   "outputs": [
    {
     "name": "stdout",
     "output_type": "stream",
     "text": [
      "True\n",
      "<class 'bool'>\n"
     ]
    }
   ],
   "source": [
    "num1 = True\n",
    "print(num1)\n",
    "print(type(num1))"
   ]
  },
  {
   "cell_type": "code",
   "execution_count": 106,
   "id": "ab03be2d-7292-41c5-bbca-93187de5bd3c",
   "metadata": {},
   "outputs": [
    {
     "name": "stdout",
     "output_type": "stream",
     "text": [
      "Mohit Kumar\n"
     ]
    }
   ],
   "source": [
    "# concatenate the string\n",
    "first_name =  \"Mohit\"\n",
    "last_name = 'Kumar'\n",
    "full_name = first_name+\" \"+last_name\n",
    "print(full_name)"
   ]
  },
  {
   "cell_type": "code",
   "execution_count": 114,
   "id": "ce377060-60b8-423c-9c65-03f0b3b9e346",
   "metadata": {},
   "outputs": [
    {
     "name": "stdout",
     "output_type": "stream",
     "text": [
      "5\n",
      "10\n"
     ]
    }
   ],
   "source": [
    "x = 5\n",
    "print(x)\n",
    "x = 10\n",
    "print(x)   # reassign the value of the x"
   ]
  },
  {
   "cell_type": "code",
   "execution_count": 116,
   "id": "e071bb23-4167-4d99-9340-aa8e25bc9000",
   "metadata": {},
   "outputs": [
    {
     "data": {
      "text/plain": [
       "121"
      ]
     },
     "execution_count": 116,
     "metadata": {},
     "output_type": "execute_result"
    }
   ],
   "source": [
    "34+87"
   ]
  },
  {
   "cell_type": "code",
   "execution_count": 122,
   "id": "21a5dd3f-ef47-40d3-ac4d-40cbd549ea4d",
   "metadata": {},
   "outputs": [
    {
     "name": "stdout",
     "output_type": "stream",
     "text": [
      "9.337769999999999\n"
     ]
    }
   ],
   "source": [
    "x = 2.56777\n",
    "y = 6.77\n",
    "print(x+y)"
   ]
  },
  {
   "cell_type": "code",
   "execution_count": 131,
   "id": "6c3a785a-3c24-4661-a778-0999b90aa601",
   "metadata": {},
   "outputs": [
    {
     "name": "stdout",
     "output_type": "stream",
     "text": [
      "(3+8j)\n"
     ]
    }
   ],
   "source": [
    "x1 = 2+3j\n",
    "y1 = 1+5j\n",
    "print(x1+y1)"
   ]
  },
  {
   "cell_type": "code",
   "execution_count": 133,
   "id": "c4fa3325-a6e2-43c1-ab99-dc9525ee1973",
   "metadata": {},
   "outputs": [
    {
     "name": "stdout",
     "output_type": "stream",
     "text": [
      "-11\n"
     ]
    }
   ],
   "source": [
    "w1 = 23\n",
    "w2 = -34\n",
    "print(w1+w2)\n"
   ]
  },
  {
   "cell_type": "code",
   "execution_count": 135,
   "id": "d4ab71d5-8197-49c9-a748-d95f8ff16441",
   "metadata": {},
   "outputs": [
    {
     "name": "stdout",
     "output_type": "stream",
     "text": [
      "3\n"
     ]
    }
   ],
   "source": [
    "num11 = 8\n",
    "num22 = 5\n",
    "print(num11 - num22)"
   ]
  },
  {
   "cell_type": "code",
   "execution_count": 141,
   "id": "b2c20bbd-37e8-428a-8f34-9c98bb76a948",
   "metadata": {},
   "outputs": [
    {
     "ename": "TypeError",
     "evalue": "unsupported operand type(s) for -: 'str' and 'str'",
     "output_type": "error",
     "traceback": [
      "\u001b[1;31m---------------------------------------------------------------------------\u001b[0m",
      "\u001b[1;31mTypeError\u001b[0m                                 Traceback (most recent call last)",
      "Cell \u001b[1;32mIn[141], line 3\u001b[0m\n\u001b[0;32m      1\u001b[0m a \u001b[38;5;241m=\u001b[39m \u001b[38;5;124m\"\u001b[39m\u001b[38;5;124mhello\u001b[39m\u001b[38;5;124m\"\u001b[39m\n\u001b[0;32m      2\u001b[0m b \u001b[38;5;241m=\u001b[39m  \u001b[38;5;124m\"\u001b[39m\u001b[38;5;124mstudent\u001b[39m\u001b[38;5;124m\"\u001b[39m\n\u001b[1;32m----> 3\u001b[0m \u001b[38;5;28mprint\u001b[39m(a\u001b[38;5;241m-\u001b[39mb)\n",
      "\u001b[1;31mTypeError\u001b[0m: unsupported operand type(s) for -: 'str' and 'str'"
     ]
    }
   ],
   "source": [
    "a = \"hello\"\n",
    "b =  \"student\"\n",
    "print(a-b)"
   ]
  },
  {
   "cell_type": "code",
   "execution_count": 145,
   "id": "41f48598-214a-42ac-adf5-c4286ac7414c",
   "metadata": {},
   "outputs": [
    {
     "name": "stdout",
     "output_type": "stream",
     "text": [
      "(2+4j)\n"
     ]
    }
   ],
   "source": [
    "a6 = 5+9j\n",
    "b6 = 3+5j\n",
    "print(a6-b6)"
   ]
  },
  {
   "cell_type": "code",
   "execution_count": 160,
   "id": "9b67567a-9c0c-4423-ad7d-df24e8036c46",
   "metadata": {},
   "outputs": [
    {
     "data": {
      "text/plain": [
       "(2+4j)"
      ]
     },
     "execution_count": 160,
     "metadata": {},
     "output_type": "execute_result"
    }
   ],
   "source": [
    "2+4j"
   ]
  },
  {
   "cell_type": "raw",
   "id": "86c3b9e3-b42a-4af3-b5d8-397cdf59c317",
   "metadata": {},
   "source": [
    "str =  "
   ]
  }
 ],
 "metadata": {
  "kernelspec": {
   "display_name": "Python 3 (ipykernel)",
   "language": "python",
   "name": "python3"
  },
  "language_info": {
   "codemirror_mode": {
    "name": "ipython",
    "version": 3
   },
   "file_extension": ".py",
   "mimetype": "text/x-python",
   "name": "python",
   "nbconvert_exporter": "python",
   "pygments_lexer": "ipython3",
   "version": "3.11.5"
  }
 },
 "nbformat": 4,
 "nbformat_minor": 5
}
